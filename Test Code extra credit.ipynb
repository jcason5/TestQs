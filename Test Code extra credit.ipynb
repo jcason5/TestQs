{
 "cells": [
  {
   "cell_type": "markdown",
   "id": "df9243a9",
   "metadata": {},
   "source": [
    "### Test Coding questions"
   ]
  },
  {
   "cell_type": "markdown",
   "id": "6dbb86ea",
   "metadata": {},
   "source": [
    "### 1. Create a list of 10 numbers and find out the minimum, maximum, and total (sum) of the list."
   ]
  },
  {
   "cell_type": "code",
   "execution_count": 1,
   "id": "94510c8f",
   "metadata": {},
   "outputs": [
    {
     "name": "stdout",
     "output_type": "stream",
     "text": [
      "1\n",
      "10\n",
      "55\n"
     ]
    }
   ],
   "source": [
    "numbers=[1,2,3,4,5,6,7,8,9,10]\n",
    "print(min(numbers))\n",
    "print(max(numbers))\n",
    "print(sum(numbers))"
   ]
  },
  {
   "cell_type": "markdown",
   "id": "d2a6b358",
   "metadata": {},
   "source": [
    "### 2. What is a nested If statement? Get input from a user and check whether the number is odd or not. If the number is odd it is also less than or equal to 20. If not, then print relevant information."
   ]
  },
  {
   "cell_type": "code",
   "execution_count": 3,
   "id": "6d48f32d",
   "metadata": {},
   "outputs": [
    {
     "name": "stdout",
     "output_type": "stream",
     "text": [
      "Enter a number: 5\n",
      "number is odd and less or = 20\n"
     ]
    }
   ],
   "source": [
    "number=int(input(\"Enter a number: \"))\n",
    "if number%2==1: \n",
    "    if number>=20:\n",
    "        print(\"number is odd and is greater than or equal to 20\")\n",
    "    else:\n",
    "        print(\"number is odd and less or = 20\")\n",
    "else:\n",
    "    print(\"Number is even\")"
   ]
  },
  {
   "cell_type": "markdown",
   "id": "821980b1",
   "metadata": {},
   "source": [
    "### 3. Get a user input of an integer number and check if the given number is a multiple of 11 or not."
   ]
  },
  {
   "cell_type": "code",
   "execution_count": 6,
   "id": "9052be31",
   "metadata": {},
   "outputs": [
    {
     "name": "stdout",
     "output_type": "stream",
     "text": [
      "Enter a number: 23\n",
      "Number is not a multiple of 11\n"
     ]
    }
   ],
   "source": [
    "number=int(input(\"Enter a number: \"))\n",
    "if number%11==0: \n",
    "    print(\"number is a multiple of 11\")\n",
    "else:\n",
    "    print(\"Number is not a multiple of 11\")"
   ]
  },
  {
   "cell_type": "markdown",
   "id": "137170ee",
   "metadata": {},
   "source": [
    "### 5. In the United States, as of 1995, a minor is generally legally defined as a person under the age of 18. Write a code to check whether a student is a minor or not where the input will be given by users."
   ]
  },
  {
   "cell_type": "code",
   "execution_count": 14,
   "id": "3032975d",
   "metadata": {},
   "outputs": [
    {
     "name": "stdout",
     "output_type": "stream",
     "text": [
      "Enter student age: 19\n",
      "The student is an adult\n"
     ]
    }
   ],
   "source": [
    "age=int(input(\"Enter student age: \"))\n",
    "if age>=18:\n",
    "    print(\"The student is an adult\")\n",
    "else:\n",
    "    print(\"The student is a minor\")"
   ]
  },
  {
   "cell_type": "markdown",
   "id": "8f6cc39f",
   "metadata": {},
   "source": [
    "### 8. Write down a program using a for loop that prints all numbers from 1 to 15 and adds them to a list called numbers_list. \n",
    "numbers_list=[1,2,3,4,...15]"
   ]
  },
  {
   "cell_type": "code",
   "execution_count": 15,
   "id": "7577b519",
   "metadata": {},
   "outputs": [
    {
     "name": "stdout",
     "output_type": "stream",
     "text": [
      "[1, 2, 3, 4, 5, 6, 7, 8, 9, 10, 11, 12, 13, 14, 15]\n"
     ]
    }
   ],
   "source": [
    "numbers_list = [ x for x in range(1,16)]\n",
    "print(numbers_list)"
   ]
  },
  {
   "cell_type": "code",
   "execution_count": null,
   "id": "f3ab5cd4",
   "metadata": {},
   "outputs": [],
   "source": []
  }
 ],
 "metadata": {
  "kernelspec": {
   "display_name": "Python 3 (ipykernel)",
   "language": "python",
   "name": "python3"
  },
  "language_info": {
   "codemirror_mode": {
    "name": "ipython",
    "version": 3
   },
   "file_extension": ".py",
   "mimetype": "text/x-python",
   "name": "python",
   "nbconvert_exporter": "python",
   "pygments_lexer": "ipython3",
   "version": "3.11.4"
  }
 },
 "nbformat": 4,
 "nbformat_minor": 5
}
